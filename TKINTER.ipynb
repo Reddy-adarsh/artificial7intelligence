{
 "cells": [
  {
   "cell_type": "code",
   "execution_count": 1,
   "metadata": {},
   "outputs": [],
   "source": [
    "import tkinter   #importing module"
   ]
  },
  {
   "cell_type": "code",
   "execution_count": 2,
   "metadata": {},
   "outputs": [],
   "source": [
    "m=tkinter.Tk() #where m is the name of the main window object"
   ]
  },
  {
   "cell_type": "code",
   "execution_count": 3,
   "metadata": {},
   "outputs": [],
   "source": [
    "import tkinter \n",
    "m = tkinter.Tk() \n",
    "''' \n",
    "widgets are added here \n",
    "'''\n",
    "m.mainloop() "
   ]
  },
  {
   "cell_type": "markdown",
   "metadata": {},
   "source": [
    "w=Button(master, option=value)  #this line is used to add buttons for the window"
   ]
  },
  {
   "cell_type": "markdown",
   "metadata": {},
   "source": [
    "importent commands used in tkinter for creating a window\n",
    "\n",
    "1.activebackground: to set the background color when button is under the cursor.\n",
    "2.activeforeground: to set the foreground color when button is under the cursor.\n",
    "3.bg: to set he normal background color.\n",
    "4.command: to call a function.\n",
    "5.font: to set the font on the button label.\n",
    "6.image: to set the image on the button.\n",
    "7.width: to set the width of the button.\n",
    "8.height: to set the height of the button."
   ]
  },
  {
   "cell_type": "code",
   "execution_count": 6,
   "metadata": {},
   "outputs": [],
   "source": [
    "import tkinter as tk \n",
    "r = tk.Tk() \n",
    "r.title('Counting Seconds') \n",
    "button = tk.Button(r, text='Stop', width=25, command=r.destroy) #we are giving width of that window to show in the op command for the stop s given as destroy\n",
    "button.pack() \n",
    "r.mainloop() \n",
    "\n",
    "#here in this window we are adding a simple button to stop the program"
   ]
  },
  {
   "cell_type": "markdown",
   "metadata": {},
   "source": [
    "Canvas: It is used to draw pictures and other complex layout like graphics, text and widgets.\n",
    "\n",
    "The general syntax is:\n",
    "w = Canvas(master, option=value)\n",
    "master is the parameter used to represent the parent window.\n",
    "There are number of options which are used to change the format of the widget. Number of options can be passed as parameters separated by commas. Some of them are listed below.\n",
    "\n",
    "\n",
    "commands used\n",
    "1.bd: to set the border width in pixels.\n",
    "2.bg: to set the normal background color.\n",
    "3.cursor: to set the cursor used in the canvas.\n",
    "4.highlightcolor: to set the color shown in the focus highlight.\n",
    "5.width: to set the width of the widget.\n",
    "6.height: to set the height of the widget."
   ]
  },
  {
   "cell_type": "code",
   "execution_count": 7,
   "metadata": {},
   "outputs": [],
   "source": [
    "from tkinter import *\n",
    "master = Tk() \n",
    "w = Canvas(master, width=40, height=60) \n",
    "w.pack() \n",
    "canvas_height=20\n",
    "canvas_width=200\n",
    "y = int(canvas_height / 2) \n",
    "w.create_line(0, y, canvas_width, y ) \n",
    "mainloop() "
   ]
  },
  {
   "cell_type": "markdown",
   "metadata": {},
   "source": [
    "CheckButton: To select any number of options by displaying a number of options to a user as toggle buttons.\n",
    "\n",
    "The general syntax is:\n",
    "w = CheckButton(master, option=value)\n",
    "There are number of options which are used to change the format of this widget. Number of options can be passed as parameters separated by commas. Some of them are listed below.\n",
    "\n",
    "1.Title: To set the title of the widget.\n",
    "2.activebackground: to set the background color when widget is under the cursor.\n",
    "3.activeforeground: to set the foreground color when widget is under the cursor.\n",
    "4.bg: to set he normal backgrouSteganography\n",
    "Break\n",
    "\n",
    "Secret Code:\n",
    "\n",
    "Attach a File:nd color.\n",
    "\n",
    "command: to call a function.\n",
    "font: to set the font on the button label.\n",
    "image: to set the image on the widget."
   ]
  },
  {
   "cell_type": "code",
   "execution_count": 8,
   "metadata": {},
   "outputs": [],
   "source": [
    "from tkinter import *\n",
    "master = Tk() \n",
    "var1 = IntVar() \n",
    "Checkbutton(master, text='male', variable=var1).grid(row=0, sticky=W) \n",
    "var2 = IntVar() \n",
    "Checkbutton(master, text='female', variable=var2).grid(row=1, sticky=W) \n",
    "mainloop() "
   ]
  },
  {
   "cell_type": "markdown",
   "metadata": {},
   "source": [
    "Entry:It is used to input the single line text entry from the user.. For multi-line text input, Text widget is used.\n",
    "\n",
    "The general syntax is:\n",
    "w=Entry(master, option=value)\n",
    "master is the parameter used to represent the parent window.\n",
    "There are number of options which are used to change the format of the widget. Number of options can be passed as parameters separated by commas. Some of them are listed below.\n",
    "\n",
    "commands used:\n",
    "1.bd: to set the border width in pixels.\n",
    "2.bg: to set the normal background color.\n",
    "3.cursor: to set the cursor used.\n",
    "4.command: to call a function.\n",
    "5.highlightcolor: to set the color shown in the focus highlight.\n",
    "6.width: to set the width of the button.\n",
    "7.height: to set the height of the button."
   ]
  },
  {
   "cell_type": "code",
   "execution_count": 9,
   "metadata": {},
   "outputs": [],
   "source": [
    "from tkinter import *\n",
    "master = Tk() \n",
    "Label(master, text='First Name').grid(row=0) \n",
    "Label(master, text='Last Name').grid(row=1) \n",
    "e1 = Entry(master) \n",
    "e2 = Entry(master) \n",
    "e1.grid(row=0, column=1) \n",
    "e2.grid(row=1, column=1) \n",
    "mainloop() "
   ]
  },
  {
   "cell_type": "markdown",
   "metadata": {},
   "source": [
    "Frame: It acts as a container to hold the widgets. It is used for grouping and organizing the widgets. \n",
    "\n",
    "The general syntax is:\n",
    "w = Frame(master, option=value)\n",
    "master is the parameter used to represent the parent window.\n",
    "There are number of options which are used to change the format of the widget. Number of options can be passed as parameters separated by commas. Some of them are listed below.\n",
    "\n",
    "commands used:\n",
    "1.highlightcolor: To set the color of the focus highlight when widget has to be focused.\n",
    "2.bd: to set the border width in pixels.\n",
    "3.bg: to set the normal background color.\n",
    "4.cursor: to set the cursor used.\n",
    "5.width: to set the width of the widget.\n",
    "6.height: to set the height of the widget."
   ]
  },
  {
   "cell_type": "code",
   "execution_count": 13,
   "metadata": {},
   "outputs": [],
   "source": [
    "from tkinter import *\n",
    "  \n",
    "root = Tk() \n",
    "frame = Frame(root) \n",
    "frame.pack() \n",
    "bottomframe = Frame(root) \n",
    "bottomframe.pack( side = BOTTOM ) \n",
    "redbutton = Button(frame, text = 'Red', fg ='red') \n",
    "redbutton.pack( side = LEFT) \n",
    "greenbutton = Button(frame, text = 'Brown', fg='brown') \n",
    "greenbutton.pack( side = LEFT ) \n",
    "bluebutton = Button(frame, text ='Blue', fg ='blue') \n",
    "bluebutton.pack( side = LEFT ) \n",
    "blackbutton = Button(bottomframe, text ='Black', fg ='black') \n",
    "blackbutton.pack( side = BOTTOM) \n",
    "root.mainloop() "
   ]
  },
  {
   "cell_type": "markdown",
   "metadata": {},
   "source": [
    "Label: It refers to the display box where you can put any text or image which can be updated any time as per the code.\n",
    "\n",
    "The general syntax is:\n",
    "w=Label(master, option=value)\n",
    "master is the parameter used to represent the parent window.\n",
    "There are number of options which are used to change the format of the widget. Number of options can be passed as parameters separated by commas. Some of them are listed below.\n",
    "\n",
    "commands used:\n",
    "1.bg: to set he normal background color.\n",
    "2.bg to set he normal background color.\n",
    "3.command: to call a function.\n",
    "4.font: to set the font on the button label.\n",
    "5.image: to set the image on the button.\n",
    "6.width: to set the width of the button.\n",
    "7.height” to set the height of the button."
   ]
  },
  {
   "cell_type": "code",
   "execution_count": 14,
   "metadata": {},
   "outputs": [],
   "source": [
    "from tkinter import *\n",
    "root = Tk() \n",
    "w = Label(root, text='GeeksForGeeks.org!') \n",
    "w.pack() \n",
    "root.mainloop() "
   ]
  },
  {
   "cell_type": "markdown",
   "metadata": {},
   "source": [
    "Listbox: It offers a list to the user from which the user can accept any number of options.\n",
    "\n",
    "The general syntax is:\n",
    "w = Listbox(master, option=value)\n",
    "master is the parameter used to represent the parent window.\n",
    "There are number of options which are used to change the format of the widget. Number of options can be passed as parameters separated by commas. Some of them are listed below.\n",
    "\n",
    "commands used:\n",
    "highlightcolor: To set the color of the focus highlight when widget has to be focused.\n",
    "bg: to set he normal background color.\n",
    "bd: to set the border width in pixels.\n",
    "font: to set the font on the button label.\n",
    "image: to set the image on the widget.\n",
    "width: to set the width of the widget.\n",
    "height: to set the height of the widget."
   ]
  },
  {
   "cell_type": "code",
   "execution_count": 16,
   "metadata": {},
   "outputs": [],
   "source": [
    "from tkinter import *\n",
    "  \n",
    "top = Tk() \n",
    "Lb = Listbox(top) \n",
    "Lb.insert(1, 'sai') \n",
    "Lb.insert(2, 'ADARSH BRO') \n",
    "Lb.insert(3, 'LAVANYA AKKA') \n",
    "Lb.insert(4, 'GVS') \n",
    "Lb.pack() \n",
    "top.mainloop() "
   ]
  },
  {
   "cell_type": "markdown",
   "metadata": {},
   "source": [
    "MenuButton: It is a part of top-down menu which stays on the window all the time. Every menubutton has its own functionality. \n",
    "    \n",
    "The general syntax is:\n",
    "w = MenuButton(master, option=value)\n",
    "master is the parameter used to represent the parent window.\n",
    "There are number of options which are used to change the format of the widget. Number of options can be passed as parameters separated by commas. Some of them are listed below.\n",
    "\n",
    "commands used:\n",
    "1.activebackground: To set the background when mouse is over the widget.\n",
    "2.activeforeground: To set the foreground when mouse is over the widget.\n",
    "3.bg: to set he normal background color.\n",
    "4.bd: to set the size of border around the indicator.\n",
    "5.cursor: To appear the cursor when the mouse over the menubutton.\n",
    "6.image: to set the image on the widget.\n",
    "7.width: to set the width of the widget.\n",
    "8.height: to set the height of the widget.\n",
    "9.highlightcolor: To set the color of the focus highlight when widget has to be focused"
   ]
  },
  {
   "cell_type": "code",
   "execution_count": 32,
   "metadata": {},
   "outputs": [
    {
     "ename": "NameError",
     "evalue": "name 'quotmenu' is not defined",
     "output_type": "error",
     "traceback": [
      "\u001b[1;31m---------------------------------------------------------------------------\u001b[0m",
      "\u001b[1;31mNameError\u001b[0m                                 Traceback (most recent call last)",
      "\u001b[1;32m<ipython-input-32-fe89ad26883f>\u001b[0m in \u001b[0;36m<module>\u001b[1;34m\u001b[0m\n\u001b[0;32m      2\u001b[0m \u001b[1;33m\u001b[0m\u001b[0m\n\u001b[0;32m      3\u001b[0m \u001b[0mtop\u001b[0m \u001b[1;33m=\u001b[0m \u001b[0mTk\u001b[0m\u001b[1;33m(\u001b[0m\u001b[1;33m)\u001b[0m\u001b[1;33m\u001b[0m\u001b[1;33m\u001b[0m\u001b[0m\n\u001b[1;32m----> 4\u001b[1;33m \u001b[0mmb\u001b[0m \u001b[1;33m=\u001b[0m  \u001b[0mMenubutton\u001b[0m \u001b[1;33m(\u001b[0m \u001b[0mtop\u001b[0m\u001b[1;33m,\u001b[0m \u001b[0mtext\u001b[0m\u001b[1;33m=\u001b[0m \u001b[0mquotmenu\u001b[0m\u001b[1;33m&\u001b[0m\u001b[0mquot\u001b[0m\u001b[1;33m)\u001b[0m\u001b[1;33m\u001b[0m\u001b[1;33m\u001b[0m\u001b[0m\n\u001b[0m\u001b[0;32m      5\u001b[0m \u001b[0mmb\u001b[0m\u001b[1;33m.\u001b[0m\u001b[0mgrid\u001b[0m\u001b[1;33m(\u001b[0m\u001b[1;33m)\u001b[0m\u001b[1;33m\u001b[0m\u001b[1;33m\u001b[0m\u001b[0m\n\u001b[0;32m      6\u001b[0m \u001b[0mmb\u001b[0m\u001b[1;33m.\u001b[0m\u001b[0mmenu\u001b[0m  \u001b[1;33m=\u001b[0m  \u001b[0mMenu\u001b[0m \u001b[1;33m(\u001b[0m \u001b[0mmb\u001b[0m\u001b[1;33m,\u001b[0m \u001b[0mtearoff\u001b[0m \u001b[1;33m=\u001b[0m \u001b[1;36m0\u001b[0m \u001b[1;33m)\u001b[0m\u001b[1;33m\u001b[0m\u001b[1;33m\u001b[0m\u001b[0m\n",
      "\u001b[1;31mNameError\u001b[0m: name 'quotmenu' is not defined"
     ]
    }
   ],
   "source": [
    "from tkinter import *\n",
    "  \n",
    "top = Tk() \n",
    "mb =  Menubutton ( top, text = &quot;menu&quot;) \n",
    "mb.grid() \n",
    "mb.menu  =  Menu ( mb, tearoff = 0 ) \n",
    "mb[&quot;menu&quot;]  =  mb.menu \n",
    "cVar  = IntVar() \n",
    "aVar = IntVar() \n",
    "mb.menu.add_checkbutton ( label ='Contact', variable = cVar ) \n",
    "mb.menu.add_checkbutton ( label = 'About', variable = aVar ) \n",
    "mb.pack() \n",
    "top.mainloop() \n"
   ]
  },
  {
   "cell_type": "markdown",
   "metadata": {},
   "source": [
    "Menu: It is used to create all kinds of menus used by the application.\n",
    "\n",
    "The general syntax is:\n",
    "w = Menu(master, option=value)\n",
    "master is the parameter used to represent the parent window.\n",
    "There are number of options which are used to change the format of this widget. Number of options can be passed as parameters separated by commas. Some of them are listed below.\n",
    "\n",
    "commands used:\n",
    "1.title: To set the title of the widget.\n",
    "2.activebackground: to set the background color when widget is under the cursor.\n",
    "3.activeforeground: to set the foreground color when widget is under the cursor.\n",
    "4.bg: to set he normal background color.\n",
    "5.command: to call a function.\n",
    "6.font: to set the font on the button label.\n",
    "7.image: to set the image on the widget."
   ]
  },
  {
   "cell_type": "code",
   "execution_count": 33,
   "metadata": {},
   "outputs": [],
   "source": [
    "from tkinter import *\n",
    "      \n",
    "root = Tk() \n",
    "menu = Menu(root) \n",
    "root.config(menu=menu) \n",
    "filemenu = Menu(menu) \n",
    "menu.add_cascade(label='File', menu=filemenu) \n",
    "filemenu.add_command(label='New') \n",
    "filemenu.add_command(label='Open...') \n",
    "filemenu.add_separator() \n",
    "filemenu.add_command(label='Exit', command=root.quit) \n",
    "helpmenu = Menu(menu) \n",
    "menu.add_cascade(label='Help', menu=helpmenu) \n",
    "helpmenu.add_command(label='About') \n",
    "mainloop() \n"
   ]
  },
  {
   "cell_type": "markdown",
   "metadata": {},
   "source": [
    "Message: It refers to the multi-line and non-editable text. It works same as that of Label.\n",
    "\n",
    "The general syntax is:\n",
    "w = Message(master, option=value)\n",
    "master is the parameter used to represent the parent window.\n",
    "There are number of options which are used to change the format of the widget. Number of options can be passed as parameters separated by commas. Some of them are listed below.\n",
    "\n",
    "commands used:\n",
    "1.bd: to set the border around the indicator.\n",
    "2.bg: to set he normal background color.\n",
    "3.font: to set the font on the button label.\n",
    "4.image: to set the image on the widget.\n",
    "5.width: to set the width of the widget.\n",
    "6.height: to set the height of the widget."
   ]
  },
  {
   "cell_type": "code",
   "execution_count": 34,
   "metadata": {},
   "outputs": [],
   "source": [
    "from tkinter import *\n",
    "main = Tk() \n",
    "ourMessage ='This is our Message'\n",
    "messageVar = Message(main, text = ourMessage) \n",
    "messageVar.config(bg='lightgreen') \n",
    "messageVar.pack( ) \n",
    "main.mainloop( ) "
   ]
  },
  {
   "cell_type": "markdown",
   "metadata": {},
   "source": [
    "RadioButton: It is used to offer multi-choice option to the user. It offers several options to the user and the user has to choose one option.\n",
    "\n",
    "The general syntax is:\n",
    "w = RadioButton(master, option=value)\n",
    "There are number of options which are used to change the format of this widget. Number of options can be passed as parameters separated by commas. Some of them are listed below.\n",
    "\n",
    "commands used:\n",
    "1.activebackground: to set the background color when widget is under the cursor.\n",
    "2.activeforeground: to set the foreground color when widget is under the cursor.\n",
    "3.bg: to set he normal background color.\n",
    "4.command: to call a function.\n",
    "5.font: to set the font on the button label.\n",
    "6.image: to set the image on the widget.\n",
    "7.width: to set the width of the label in characters.\n",
    "8.height: to set the height of the label in characters."
   ]
  },
  {
   "cell_type": "code",
   "execution_count": 35,
   "metadata": {},
   "outputs": [],
   "source": [
    "from tkinter import *\n",
    "root = Tk() \n",
    "v = IntVar() \n",
    "Radiobutton(root, text='GfG', variable=v, value=1).pack(anchor=W) \n",
    "Radiobutton(root, text='MIT', variable=v, value=2).pack(anchor=W) \n",
    "mainloop() "
   ]
  },
  {
   "cell_type": "markdown",
   "metadata": {},
   "source": [
    "Scale: It is used to provide a graphical slider that allows to select any value from that scale. \n",
    "\n",
    "The general syntax is:\n",
    "w = Scale(master, option=value)\n",
    "master is the parameter used to represent the parent window.\n",
    "There are number of options which are used to change the format of the widget. Number of options can be passed as parameters separated by commas. Some of them are listed below.\n",
    "\n",
    "commands used:\n",
    "1.cursor: To change the cursor pattern when the mouse is over the widget.\n",
    "2.activebackground: To set the background of the widget when mouse is over the widget.\n",
    "3.bg: to set he normal background color.\n",
    "4.orient: Set it to HORIZONTAL or VERTICAL according to the requirement.\n",
    "5.from_: To set the value of one end of the scale range.\n",
    "6.to: To set the value of the other end of the scale range.\n",
    "7.image: to set the image on the widget.\n",
    "8.width: to set the width of the widget."
   ]
  },
  {
   "cell_type": "code",
   "execution_count": 36,
   "metadata": {},
   "outputs": [],
   "source": [
    "from tkinter import *\n",
    "master = Tk() \n",
    "w = Scale(master, from_=0, to=42) \n",
    "w.pack() \n",
    "w = Scale(master, from_=0, to=200, orient=HORIZONTAL) \n",
    "w.pack() \n",
    "mainloop() "
   ]
  },
  {
   "cell_type": "markdown",
   "metadata": {},
   "source": [
    "Scrollbar: It refers to the slide controller which will be used to implement listed widgets.\n",
    "\n",
    "The general syntax is:\n",
    "w = Scrollbar(master, option=value)\n",
    "master is the parameter used to represent the parent window.\n",
    "There are number of options which are used to change the format of the widget. Number of options can be passed as parameters separated by commas. Some of them are listed below.\n",
    "\n",
    "commands used:\n",
    "1.width: to set the width of the widget.\n",
    "2.activebackground: To set the background when mouse is over the widget.\n",
    "3.bg: to sethe normal background color.\n",
    "4.bd: to set the size of border around the indicator.\n",
    "5.cursor: To appear the cursor when the mouse over the menubutton."
   ]
  },
  {
   "cell_type": "code",
   "execution_count": 37,
   "metadata": {},
   "outputs": [],
   "source": [
    "from tkinter import *\n",
    "\n",
    "root = Tk() \n",
    "scrollbar = Scrollbar(root) \n",
    "scrollbar.pack( side = RIGHT, fill = Y ) \n",
    "mylist = Listbox(root, yscrollcommand = scrollbar.set ) \n",
    "for line in range(100):\n",
    "    mylist.insert(END, 'This is line number' + str(line)) \n",
    "mylist.pack( side = LEFT, fill = BOTH ) \n",
    "scrollbar.config( command = mylist.yview ) \n",
    "mainloop() "
   ]
  },
  {
   "cell_type": "markdown",
   "metadata": {},
   "source": [
    "Text: To edit a multi-line text and format the way it has to be displayed.\n",
    "\n",
    "The general syntax is:\n",
    "w  =Text(master, option=value)\n",
    "There are number of options which are used to change the format of the text. Number of options can be passed as parameters separated by commas. Some of them are listed below.\n",
    "\n",
    "commands used:\n",
    "1.highlightcolor: To set the color of the focus highlight when widget has to be focused.\n",
    "2.insertbackground: To set the background of the widget.\n",
    "3.bg: to set he normal background color.\n",
    "4.font: to set the font on the button label.\n",
    "5.image: to set the image on the widget.\n",
    "6.width: to set the width of the widget.\n",
    "7.height: to set the height of the widge"
   ]
  },
  {
   "cell_type": "code",
   "execution_count": 41,
   "metadata": {},
   "outputs": [],
   "source": [
    "from tkinter import *\n",
    "root = Tk() \n",
    "T = Text(root, height=3, width=30) \n",
    "T.pack() \n",
    "T.insert(END, 'venkata sai\\nAdarsh bro\\nLavanya akka\\n') \n",
    "mainloop() "
   ]
  },
  {
   "cell_type": "markdown",
   "metadata": {},
   "source": [
    "TopLevel: This widget is directly controlled by the window manager. It don’t need any parent window to work on.\n",
    "\n",
    "The general syntax is:\n",
    "w = TopLevel(master, option=value)\n",
    "There are number of options which are used to change the format of the widget. Number of options can be passed as parameters separated by commas. Some of them are listed below.\n",
    "\n",
    "commands used:\n",
    "1.bg: to set he normal background color.\n",
    "2.bd: to set the size of border around the indicator.\n",
    "3.cursor: To appear the cursor when the mouse over the menubutton.\n",
    "4.width: to set the width of the widget.\n",
    "5.height: to set the height of the widget."
   ]
  },
  {
   "cell_type": "code",
   "execution_count": 42,
   "metadata": {},
   "outputs": [],
   "source": [
    "from tkinter import *\n",
    "root = Tk() \n",
    "root.title('ABC') \n",
    "top = Toplevel() \n",
    "top.title('TKINTER') \n",
    "top.mainloop() "
   ]
  },
  {
   "cell_type": "markdown",
   "metadata": {},
   "source": [
    "SpinBox: It is an entry of ‘Entry’ widget. Here, value can be input by selecting a fixed value of numbers.\n",
    "    \n",
    "The general syntax is:\n",
    "w = SpinBox(master, option=value)\n",
    "There are number of options which are used to change the format of the widget. Number of options can be passed as parameters separated by commas. Some of them are listed below.\n",
    "\n",
    "COMMANDS USED:\n",
    "1.bg: to set he normal background color.\n",
    "2.bd: to set the size of border around the indicator.\n",
    "3.cursor: To appear the cursor when the mouse over the menubutton.\n",
    "4.command: To call a function.\n",
    "5.width: to set the width of the widget.\n",
    "6.activebackground: To set the background when mouse is over the widget.\n",
    "7.disabledbackground: To disable the background when mouse is over the widget.\n",
    "8.from_: To set the value of one end of the range.\n",
    "9.to: To set the value of the other end of the range."
   ]
  },
  {
   "cell_type": "code",
   "execution_count": 43,
   "metadata": {},
   "outputs": [],
   "source": [
    "from tkinter import *\n",
    "master = Tk() \n",
    "w = Spinbox(master, from_ = 0, to = 10) \n",
    "w.pack() \n",
    "mainloop() "
   ]
  },
  {
   "cell_type": "markdown",
   "metadata": {},
   "source": [
    "PannedWindow It is a container widget which is used to handle number of panes arranged in it. \n",
    "\n",
    "The general syntax is:\n",
    "w = PannedWindow(master, option=value)\n",
    "master is the parameter used to represent the parent window.\n",
    "There are number of options which are used to change the format of the widget. Number of options can be passed as parameters separated by commas. Some of them are listed below.\n",
    "\n",
    "commands used:\n",
    "1.bg: to set he normal background color.\n",
    "2.bd: to set the size of border around the indicator.\n",
    "3.cursor: To appear the cursor when the mouse over the menubutton.\n",
    "4.width: to set the width of the widget.\n",
    "5.height: to set the height of the widget."
   ]
  },
  {
   "cell_type": "code",
   "execution_count": 44,
   "metadata": {},
   "outputs": [],
   "source": [
    "from tkinter import *\n",
    "m1 = PanedWindow() \n",
    "m1.pack(fill = BOTH, expand = 1) \n",
    "left = Entry(m1, bd = 5) \n",
    "m1.add(left) \n",
    "m2 = PanedWindow(m1, orient = VERTICAL) \n",
    "m1.add(m2) \n",
    "top = Scale( m2, orient = HORIZONTAL) \n",
    "m2.add(top) \n",
    "mainloop()"
   ]
  },
  {
   "cell_type": "code",
   "execution_count": null,
   "metadata": {},
   "outputs": [],
   "source": []
  },
  {
   "cell_type": "code",
   "execution_count": null,
   "metadata": {},
   "outputs": [],
   "source": []
  },
  {
   "cell_type": "code",
   "execution_count": null,
   "metadata": {},
   "outputs": [],
   "source": []
  },
  {
   "cell_type": "code",
   "execution_count": null,
   "metadata": {},
   "outputs": [],
   "source": []
  }
 ],
 "metadata": {
  "kernelspec": {
   "display_name": "Python 3",
   "language": "python",
   "name": "python3"
  },
  "language_info": {
   "codemirror_mode": {
    "name": "ipython",
    "version": 3
   },
   "file_extension": ".py",
   "mimetype": "text/x-python",
   "name": "python",
   "nbconvert_exporter": "python",
   "pygments_lexer": "ipython3",
   "version": "3.7.3"
  }
 },
 "nbformat": 4,
 "nbformat_minor": 2
}
